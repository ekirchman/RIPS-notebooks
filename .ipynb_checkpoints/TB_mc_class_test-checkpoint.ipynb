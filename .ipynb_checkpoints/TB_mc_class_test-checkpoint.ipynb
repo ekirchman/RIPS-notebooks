{
 "cells": [
  {
   "cell_type": "markdown",
   "id": "cb99d7a0-3634-42c0-88fa-8b96a50f9898",
   "metadata": {},
   "source": [
    "# Textblob Multiclass classification test"
   ]
  },
  {
   "cell_type": "code",
   "execution_count": 5,
   "id": "e9727219-5570-4eaa-b6ee-3a88ca50601e",
   "metadata": {},
   "outputs": [
    {
     "name": "stdout",
     "output_type": "stream",
     "text": [
      "The beer is good.\n",
      "pos\n",
      "But the hangover is horrible.\n",
      "neg\n"
     ]
    }
   ],
   "source": [
    "from textblob import TextBlob\n",
    "from textblob.classifiers import NaiveBayesClassifier\n",
    "train = [\n",
    "    ('I love this sandwich.', 'pos'),\n",
    "    ('This is an amazing place!', 'pos'),\n",
    "    ('I feel very good about these beers.', 'pos'),\n",
    "    ('I do not like this restaurant', 'neg'),\n",
    "    ('I am tired of this stuff.', 'neg'),\n",
    "    (\"I can't deal with this\", 'neg'),\n",
    "    (\"My boss is horrible.\", \"neg\")\n",
    "]\n",
    "cl = NaiveBayesClassifier(train)\n",
    "cl.classify(\"I feel amazing!\")\n",
    "'pos'\n",
    "blob = TextBlob(\"The beer is good. But the hangover is horrible.\", classifier=cl)\n",
    "for s in blob.sentences:\n",
    "    print(s)\n",
    "    print(s.classify())"
   ]
  },
  {
   "cell_type": "code",
   "execution_count": 6,
   "id": "f4dd0d53-b587-4d40-9f80-6a4b1f38f356",
   "metadata": {},
   "outputs": [
    {
     "name": "stdout",
     "output_type": "stream",
     "text": [
      "Don't let your garden go thirsty this summer - prepare to irrigate efficiently! Learn tips and tricks for maintaining a working, water-efficient irrigation system this summer. May 22 from 10 a.m. to 11:30 a.m. Register today: https://t.co/5VN6vm1D59 https://t.co/5MBWQ3U1sH\n",
      "Congratulations to Sabrina Wu &amp; Yusuf Rasheed for winning 2nd Place - High School Division - in our WaterClips Student Video Contest! Check out his video about how you can plan and prepare for Water Emergencies! #waterclips2021 @Fremont_CA https://t.co/8JEo4hAzLk\n",
      "Congratulations Andrew Yuen 11th grader @USDFremont American High School for winning 3rd Place-High School Division - in our WaterClips Student Video Contest! This year's theme: planning &amp; preparing for water emergencies. More emergency info @ https://t.co/QjgMvkzheu @Fremont_CA https://t.co/7YOWMady33\n",
      "NOW HIRING!\n",
      "Engineering Technician I\n",
      "$81,798 - $99, 429\n",
      "APPLY: https://t.co/alPu6FQLNx\n",
      "#workforwater #waterjobs #CAwater #EngineeringJobs https://t.co/HnBeloYZTr\n",
      "#OneSavesWater What's one action you can take today to save water? Let's work together to use water wisely. Visit https://t.co/nKDXhUFwTO for simple water saving tips! https://t.co/A6varSmU6Y\n",
      "#TipTuesday Congratulations to Nidhi Riju, a 7th grader from @USDFremont John M. Horner Middle School for winning 1st Place - Middle School Division - in our WaterClips Student Video Contest! Check out her video about how you can plan &amp; prepare for Water Emergencies! @Fremont_CA https://t.co/r9NXiursI7\n",
      "@Hydrant_Guard @NhusdC @UnionCityCA_Gov @AlamedaCOE Thank you @Hydrant_Guard!  Marissa and all of our #WaterClips2021 winners and participants really did a great job making videos for this year’s contest!\n",
      "Congratulations to Marissa Torres from @NhusdC Itliong Vera Cruz Middle School for winning 2nd Place/Middle School Division in our WaterClips Student Video Contest! Check out her video about planning &amp; preparing for water emergencies!  #WaterClips2021 @UnionCityCA_Gov @AlamedaCOE https://t.co/BCx61nBHos\n",
      "Congratulations to Akshata Yadav from @USDFremont \n",
      "Parkmont Elementary School for winning 3rd Place in our WaterClips Student Video Contest! Check out her video about how you can plan and prepare for Water Emergencies!  #WaterClips2021 https://t.co/iw36Wrvhyd\n",
      "Engineering Technician I: The Alameda County Water District located in Fremont, California is seeking detail-oriented applicants with the desire to provide field and office technical engineering support to the Groundwater Resources Division in the Water… https://t.co/d7sWo4ZmpZ https://t.co/NA2IVvCI7R\n",
      "@cbdawson Thank you for sharing @cbdawson!  We’re super proud of the students from @USDFremont, @newark_usd, @NhusdC and @AlsionSchool for their award winning videos! 🏆🎥🎬\n",
      "Congratulations to the winners of our 2nd annual WaterClips Student Video Contest!  Tri-City students made 30 second videos to help inform customers about planning &amp; preparing for water emergencies.  See the award winning videos @ https://t.co/7Ky4CvAOq8 Fremont USD Newark USD https://t.co/b5i2N006qr\n"
     ]
    }
   ],
   "source": [
    "import pandas as pd\n",
    "import os \n",
    "os.chdir(\"/home/eric/Nextcloud/NIU/RA/\")\n",
    "df_water = pd.read_csv(\"water_tweets.csv\")\n",
    "df_water_short = pd.read_csv(\"water_tweets.csv\")\n",
    "#for ind in df_water.index:\n",
    "#    print(df_water['Name'][ind], df_water['Stream'][ind])\n",
    "for num, i in enumerate(df_water['x']):\n",
    "    print(i)\n",
    "    if num > 10:\n",
    "        break;"
   ]
  },
  {
   "cell_type": "code",
   "execution_count": 9,
   "id": "142a94ec-982c-4537-9ea4-ecfe54cf0754",
   "metadata": {},
   "outputs": [
    {
     "name": "stdout",
     "output_type": "stream",
     "text": [
      "Congratulations to the winners of our 2nd annual WaterClips Student Video Contest\n",
      "Motivation\n"
     ]
    }
   ],
   "source": [
    "train = [\n",
    "    (\"Don't let your garden go thirsty this summer\", 'conservation'),\n",
    "    (\"What's one action you can take today to save water\", 'conservation'),\n",
    "    (\"What's one action you can take today to save water?\", 'conservation'),\n",
    "    ('prepare for Water Emergencies', 'conservation'),\n",
    "    ('Congratulations to Akshata Yadav', 'Motivation'),\n",
    "    (\"Congratulations to Nidhi Riju\", 'Motivation'),\n",
    "    (\"Let's work together to use water wisely.\", \"Motivation\")\n",
    "]\n",
    "cl = NaiveBayesClassifier(train)\n",
    "\n",
    "blob = TextBlob(\"Congratulations to the winners of our 2nd annual WaterClips Student Video Contest\", classifier=cl)\n",
    "for s in blob.sentences:\n",
    "    print(s)\n",
    "    print(s.classify())"
   ]
  },
  {
   "cell_type": "code",
   "execution_count": 10,
   "id": "05d348ef-633e-4b8e-baea-80e92e2c6310",
   "metadata": {},
   "outputs": [
    {
     "data": {
      "text/plain": [
       "73775"
      ]
     },
     "execution_count": 10,
     "metadata": {},
     "output_type": "execute_result"
    }
   ],
   "source": [
    "len(df_water)"
   ]
  },
  {
   "cell_type": "code",
   "execution_count": 12,
   "id": "bd293a5f-2aad-4240-9f4e-f6c239c417e8",
   "metadata": {},
   "outputs": [
    {
     "data": {
      "text/html": [
       "<div>\n",
       "<style scoped>\n",
       "    .dataframe tbody tr th:only-of-type {\n",
       "        vertical-align: middle;\n",
       "    }\n",
       "\n",
       "    .dataframe tbody tr th {\n",
       "        vertical-align: top;\n",
       "    }\n",
       "\n",
       "    .dataframe thead th {\n",
       "        text-align: right;\n",
       "    }\n",
       "</style>\n",
       "<table border=\"1\" class=\"dataframe\">\n",
       "  <thead>\n",
       "    <tr style=\"text-align: right;\">\n",
       "      <th></th>\n",
       "      <th>x</th>\n",
       "    </tr>\n",
       "  </thead>\n",
       "  <tbody>\n",
       "    <tr>\n",
       "      <th>0</th>\n",
       "      <td>Don't let your garden go thirsty this summer -...</td>\n",
       "    </tr>\n",
       "    <tr>\n",
       "      <th>1</th>\n",
       "      <td>Congratulations to Sabrina Wu &amp;amp; Yusuf Rash...</td>\n",
       "    </tr>\n",
       "    <tr>\n",
       "      <th>2</th>\n",
       "      <td>Congratulations Andrew Yuen 11th grader @USDFr...</td>\n",
       "    </tr>\n",
       "    <tr>\n",
       "      <th>3</th>\n",
       "      <td>NOW HIRING!\\nEngineering Technician I\\n$81,798...</td>\n",
       "    </tr>\n",
       "    <tr>\n",
       "      <th>4</th>\n",
       "      <td>#OneSavesWater What's one action you can take ...</td>\n",
       "    </tr>\n",
       "  </tbody>\n",
       "</table>\n",
       "</div>"
      ],
      "text/plain": [
       "                                                   x\n",
       "0  Don't let your garden go thirsty this summer -...\n",
       "1  Congratulations to Sabrina Wu &amp; Yusuf Rash...\n",
       "2  Congratulations Andrew Yuen 11th grader @USDFr...\n",
       "3  NOW HIRING!\\nEngineering Technician I\\n$81,798...\n",
       "4  #OneSavesWater What's one action you can take ..."
      ]
     },
     "execution_count": 12,
     "metadata": {},
     "output_type": "execute_result"
    }
   ],
   "source": [
    "df_water.head(n=5)"
   ]
  }
 ],
 "metadata": {
  "kernelspec": {
   "display_name": "Python 3 (ipykernel)",
   "language": "python",
   "name": "python3"
  },
  "language_info": {
   "codemirror_mode": {
    "name": "ipython",
    "version": 3
   },
   "file_extension": ".py",
   "mimetype": "text/x-python",
   "name": "python",
   "nbconvert_exporter": "python",
   "pygments_lexer": "ipython3",
   "version": "3.10.7"
  }
 },
 "nbformat": 4,
 "nbformat_minor": 5
}
